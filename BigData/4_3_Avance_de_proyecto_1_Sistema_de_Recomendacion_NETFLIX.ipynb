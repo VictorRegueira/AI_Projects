{
  "nbformat": 4,
  "nbformat_minor": 0,
  "metadata": {
    "colab": {
      "provenance": [],
      "include_colab_link": true
    },
    "kernelspec": {
      "name": "python3",
      "display_name": "Python 3"
    },
    "language_info": {
      "name": "python"
    }
  },
  "cells": [
    {
      "cell_type": "markdown",
      "metadata": {
        "id": "view-in-github",
        "colab_type": "text"
      },
      "source": [
        "<a href=\"https://colab.research.google.com/github/VictorRegueira/AI_Projects/blob/main/BigData/4_3_Avance_de_proyecto_1_Sistema_de_Recomendacion_NETFLIX.ipynb\" target=\"_parent\"><img src=\"https://colab.research.google.com/assets/colab-badge.svg\" alt=\"Open In Colab\"/></a>"
      ]
    },
    {
      "cell_type": "markdown",
      "source": [
        "#**Maestría en Inteligencia Artificial Aplicada**\n",
        "##**Curso: Análisis de Grandes Volúmenes de Datos**\n",
        "###Tecnológico de Monterrey\n",
        "###Dr. Néstor Velasco Bermeo\n",
        "\n",
        "## **4.3 Avance de proyecto 1: Sistema de Recomendación**\n",
        "\n",
        "###**Identificar las diferentes plataformas de Big Data Analytics y sus características para el manejo de tareas de procesamiento de datos a gran escala.**\n",
        "\n",
        "### **Integrantes:**\n",
        "#### A01110946 - Fernando Maytorena Espinosa de los Monteros\n",
        "#### A01793999 - Nathalia Milena Prada Hernández\n",
        "#### A01794404 - Víctor Alejandro Regueira Romero\n",
        "\n",
        "**12 de Mayo, 2024**"
      ],
      "metadata": {
        "id": "UJikMCjIW3LD"
      }
    },
    {
      "cell_type": "markdown",
      "source": [
        "# Ingesta de datos"
      ],
      "metadata": {
        "id": "2FaOG_9BMdIu"
      }
    },
    {
      "cell_type": "code",
      "source": [
        "\n",
        "\n",
        "import pandas as pd\n",
        "import numpy as np\n",
        "import math\n",
        "import re\n",
        "from scipy.sparse import csr_matrix\n",
        "import matplotlib.pyplot as plt\n",
        "import seaborn as sns\n",
        "sns.set_style(\"darkgrid\")\n",
        "\n"
      ],
      "metadata": {
        "id": "fQ1d62xtYGK9"
      },
      "execution_count": 52,
      "outputs": []
    },
    {
      "cell_type": "code",
      "source": [
        "from google.colab import drive\n",
        "drive.mount('/content/drive')"
      ],
      "metadata": {
        "colab": {
          "base_uri": "https://localhost:8080/"
        },
        "id": "auYLgDioAO4-",
        "outputId": "e1120ee9-f72a-43cd-d41a-4cb554bc1eca"
      },
      "execution_count": 53,
      "outputs": [
        {
          "output_type": "stream",
          "name": "stdout",
          "text": [
            "Drive already mounted at /content/drive; to attempt to forcibly remount, call drive.mount(\"/content/drive\", force_remount=True).\n"
          ]
        }
      ]
    },
    {
      "cell_type": "code",
      "source": [
        "\n",
        "\n",
        "# Skip date\n",
        "df1 = pd.read_csv('/content/drive/MyDrive/dataset-netflix/combined_data_1.txt', header = None, names = ['Cust_Id', 'Rating'], usecols = [0,1])\n",
        "\n",
        "df1['Rating'] = df1['Rating'].astype(float)\n",
        "\n",
        "print('Dataset 1 shape: {}'.format(df1.shape))\n",
        "print('-Dataset examples-')\n",
        "print(df1.iloc[::5000000, :])\n",
        "\n"
      ],
      "metadata": {
        "colab": {
          "base_uri": "https://localhost:8080/"
        },
        "id": "Z4NDoYnY-owr",
        "outputId": "d18f63d9-7ee4-4919-b1d8-57c7d11ea68f"
      },
      "execution_count": 54,
      "outputs": [
        {
          "output_type": "stream",
          "name": "stdout",
          "text": [
            "Dataset 1 shape: (24058263, 2)\n",
            "-Dataset examples-\n",
            "          Cust_Id  Rating\n",
            "0              1:     NaN\n",
            "5000000   2560324     4.0\n",
            "10000000  2271935     2.0\n",
            "15000000  1921803     2.0\n",
            "20000000  1933327     3.0\n"
          ]
        }
      ]
    },
    {
      "cell_type": "markdown",
      "source": [
        " Para este ejemplo solo usaremos 100,000 registros, ya que al usar más de 1,000,000 Colab empieza a fallar al usar la librería Pandas ya que no es la eficiente para BigData"
      ],
      "metadata": {
        "id": "7IMxNdyjMPFY"
      }
    },
    {
      "cell_type": "code",
      "source": [
        "df1.shape"
      ],
      "metadata": {
        "colab": {
          "base_uri": "https://localhost:8080/"
        },
        "id": "48h5T0w5Lb7E",
        "outputId": "7c5b1ea4-2961-4847-fc94-d34dc6d28098"
      },
      "execution_count": 55,
      "outputs": [
        {
          "output_type": "execute_result",
          "data": {
            "text/plain": [
              "(24058263, 2)"
            ]
          },
          "metadata": {},
          "execution_count": 55
        }
      ]
    },
    {
      "cell_type": "code",
      "source": [
        "N = 1000000\n",
        "df1 = df1.iloc[:N]"
      ],
      "metadata": {
        "id": "Fw7tpL2HL2uv"
      },
      "execution_count": 56,
      "outputs": []
    },
    {
      "cell_type": "code",
      "source": [
        "df1.shape"
      ],
      "metadata": {
        "colab": {
          "base_uri": "https://localhost:8080/"
        },
        "id": "AClN9nvIL-Xq",
        "outputId": "3c8e2c2a-952a-42a7-b2cb-ca6617f2cfcd"
      },
      "execution_count": 57,
      "outputs": [
        {
          "output_type": "execute_result",
          "data": {
            "text/plain": [
              "(1000000, 2)"
            ]
          },
          "metadata": {},
          "execution_count": 57
        }
      ]
    },
    {
      "cell_type": "code",
      "source": [
        "# load less data for speed\n",
        "\n",
        "df = df1\n",
        "#df = df1.append(df2)\n",
        "#df = df.append(df3)\n",
        "#df = df.append(df4)\n",
        "\n",
        "df.index = np.arange(0,len(df))\n",
        "print('Full dataset shape: {}'.format(df.shape))\n",
        "print('-Dataset examples-')\n",
        "print(df.iloc[::5000000, :])\n",
        "\n"
      ],
      "metadata": {
        "colab": {
          "base_uri": "https://localhost:8080/"
        },
        "id": "cyAIBhhuATnx",
        "outputId": "de16f859-a6a6-4daf-da09-6ca5c5c3b61a"
      },
      "execution_count": 58,
      "outputs": [
        {
          "output_type": "stream",
          "name": "stdout",
          "text": [
            "Full dataset shape: (1000000, 2)\n",
            "-Dataset examples-\n",
            "  Cust_Id  Rating\n",
            "0      1:     NaN\n"
          ]
        }
      ]
    },
    {
      "cell_type": "markdown",
      "source": [],
      "metadata": {
        "id": "yuqVmfo1_tft"
      }
    },
    {
      "cell_type": "code",
      "source": [
        "p = df.groupby('Rating')['Rating'].agg(['count'])\n",
        "\n",
        "# get movie count\n",
        "movie_count = df.isnull().sum()[1]\n",
        "\n",
        "# get customer count\n",
        "cust_count = df['Cust_Id'].nunique() - movie_count\n",
        "\n",
        "# get rating count\n",
        "rating_count = df['Cust_Id'].count() - movie_count\n",
        "\n",
        "ax = p.plot(kind = 'barh', legend = False, figsize = (15,10))\n",
        "plt.title('Total pool: {:,} Movies, {:,} customers, {:,} ratings given'.format(movie_count, cust_count, rating_count), fontsize=20)\n",
        "plt.axis('off')\n",
        "\n",
        "for i in range(1,6):\n",
        "    ax.text(p.iloc[i-1][0]/4, i-1, 'Rating {}: {:.0f}%'.format(i, p.iloc[i-1][0]*100 / p.sum()[0]), color = 'white', weight = 'bold')"
      ],
      "metadata": {
        "colab": {
          "base_uri": "https://localhost:8080/",
          "height": 837
        },
        "id": "N23ymWrZAuCg",
        "outputId": "4661ac79-db29-4008-edb1-2877ea44b62f"
      },
      "execution_count": 59,
      "outputs": [
        {
          "output_type": "display_data",
          "data": {
            "text/plain": [
              "<Figure size 1500x1000 with 1 Axes>"
            ],
            "image/png": "[encoded data removed]"
          },
          "metadata": {}
        }
      ]
    },
    {
      "cell_type": "markdown",
      "source": [
        "# Data Cleaning"
      ],
      "metadata": {
        "id": "YCQ5yaHyA4KY"
      }
    },
    {
      "cell_type": "markdown",
      "source": [
        "Toma al rededor de 2 minutos en realizarse"
      ],
      "metadata": {
        "id": "QwzlKWrDC3XG"
      }
    },
    {
      "cell_type": "code",
      "source": [
        "df_nan = pd.DataFrame(pd.isnull(df.Rating))\n",
        "df_nan = df_nan[df_nan['Rating'] == True]\n",
        "df_nan = df_nan.reset_index()\n",
        "\n",
        "movie_np = []\n",
        "movie_id = 1\n",
        "\n",
        "for i,j in zip(df_nan['index'][1:],df_nan['index'][:-1]):\n",
        "    # numpy approach\n",
        "    temp = np.full((1,i-j-1), movie_id)\n",
        "    movie_np = np.append(movie_np, temp)\n",
        "    movie_id += 1\n",
        "\n",
        "# Account for last record and corresponding length\n",
        "# numpy approach\n",
        "last_record = np.full((1,len(df) - df_nan.iloc[-1, 0] - 1),movie_id)\n",
        "movie_np = np.append(movie_np, last_record)\n",
        "\n",
        "print('Movie numpy: {}'.format(movie_np))\n",
        "print('Length: {}'.format(len(movie_np)))"
      ],
      "metadata": {
        "colab": {
          "base_uri": "https://localhost:8080/"
        },
        "id": "Bmfh8-qbAv7y",
        "outputId": "3f2c0782-2861-4117-b65d-72b3d7a37fd6"
      },
      "execution_count": 60,
      "outputs": [
        {
          "output_type": "stream",
          "name": "stdout",
          "text": [
            "Movie numpy: [  1.   1.   1. ... 225. 225. 225.]\n",
            "Length: 999775\n"
          ]
        }
      ]
    },
    {
      "cell_type": "code",
      "source": [
        "\n",
        "\n",
        "# remove those Movie ID rows\n",
        "df = df[pd.notnull(df['Rating'])]\n",
        "\n",
        "df['Movie_Id'] = movie_np.astype(int)\n",
        "df['Cust_Id'] = df['Cust_Id'].astype(int)\n",
        "print('-Dataset examples-')\n",
        "print(df.iloc[::50000, :])\n",
        "\n"
      ],
      "metadata": {
        "colab": {
          "base_uri": "https://localhost:8080/"
        },
        "id": "Aud4c5AWA-ae",
        "outputId": "493a8eaf-4451-41ce-aed8-a80ad0e0fcf6"
      },
      "execution_count": 61,
      "outputs": [
        {
          "output_type": "stream",
          "name": "stdout",
          "text": [
            "-Dataset examples-\n",
            "        Cust_Id  Rating  Movie_Id\n",
            "1       1488844     3.0         1\n",
            "50026   2519993     3.0        26\n",
            "100030  2241486     4.0        30\n",
            "150030   751228     4.0        30\n",
            "200030   746871     4.0        30\n",
            "250052   720130     5.0        52\n",
            "300077  1552874     4.0        77\n",
            "350097  2603398     4.0        97\n",
            "400111  2633971     2.0       111\n",
            "450133  1133763     3.0       133\n",
            "500148   494411     3.0       148\n",
            "550166   578311     5.0       166\n",
            "600175   684056     4.0       175\n",
            "650175  2217162     5.0       175\n",
            "700188   532297     4.0       188\n",
            "750191   296295     5.0       191\n",
            "800191  1401498     2.0       191\n",
            "850197   452738     3.0       197\n",
            "900199  2355791     4.0       199\n",
            "950213   803330     4.0       213\n"
          ]
        },
        {
          "output_type": "stream",
          "name": "stderr",
          "text": [
            "<ipython-input-61-6f9efce85cd9>:4: SettingWithCopyWarning: \n",
            "A value is trying to be set on a copy of a slice from a DataFrame.\n",
            "Try using .loc[row_indexer,col_indexer] = value instead\n",
            "\n",
            "See the caveats in the documentation: https://pandas.pydata.org/pandas-docs/stable/user_guide/indexing.html#returning-a-view-versus-a-copy\n",
            "  df['Movie_Id'] = movie_np.astype(int)\n",
            "<ipython-input-61-6f9efce85cd9>:5: SettingWithCopyWarning: \n",
            "A value is trying to be set on a copy of a slice from a DataFrame.\n",
            "Try using .loc[row_indexer,col_indexer] = value instead\n",
            "\n",
            "See the caveats in the documentation: https://pandas.pydata.org/pandas-docs/stable/user_guide/indexing.html#returning-a-view-versus-a-copy\n",
            "  df['Cust_Id'] = df['Cust_Id'].astype(int)\n"
          ]
        }
      ]
    },
    {
      "cell_type": "markdown",
      "source": [
        "# Data slicing"
      ],
      "metadata": {
        "id": "EV722bgVBxXU"
      }
    },
    {
      "cell_type": "markdown",
      "source": [
        "\n",
        "- Remove movie with too less reviews (they are relatively not popular)\n",
        "- Remove customer who give too less reviews (they are relatively less active)\n"
      ],
      "metadata": {
        "id": "yfgiyDv-B111"
      }
    },
    {
      "cell_type": "code",
      "source": [
        "f = ['count','mean']\n",
        "\n",
        "df_movie_summary = df.groupby('Movie_Id')['Rating'].agg(f)\n",
        "df_movie_summary.index = df_movie_summary.index.map(int)\n",
        "movie_benchmark = round(df_movie_summary['count'].quantile(0.7),0)\n",
        "drop_movie_list = df_movie_summary[df_movie_summary['count'] < movie_benchmark].index\n",
        "\n",
        "print('Movie minimum times of review: {}'.format(movie_benchmark))\n",
        "\n",
        "df_cust_summary = df.groupby('Cust_Id')['Rating'].agg(f)\n",
        "df_cust_summary.index = df_cust_summary.index.map(int)\n",
        "cust_benchmark = round(df_cust_summary['count'].quantile(0.7),0)\n",
        "drop_cust_list = df_cust_summary[df_cust_summary['count'] < cust_benchmark].index\n",
        "\n",
        "print('Customer minimum times of review: {}'.format(cust_benchmark))"
      ],
      "metadata": {
        "colab": {
          "base_uri": "https://localhost:8080/"
        },
        "id": "pUeLjHH3BAhp",
        "outputId": "026db47c-1ff9-495b-988d-a0c405228573"
      },
      "execution_count": 62,
      "outputs": [
        {
          "output_type": "stream",
          "name": "stdout",
          "text": [
            "Movie minimum times of review: 1385.0\n",
            "Customer minimum times of review: 4.0\n"
          ]
        }
      ]
    },
    {
      "cell_type": "code",
      "source": [
        "print('Original Shape: {}'.format(df.shape))\n",
        "df = df[~df['Movie_Id'].isin(drop_movie_list)]\n",
        "df = df[~df['Cust_Id'].isin(drop_cust_list)]\n",
        "print('After Trim Shape: {}'.format(df.shape))\n",
        "print('-Data Examples-')\n",
        "print(df.iloc[::5000000, :])"
      ],
      "metadata": {
        "colab": {
          "base_uri": "https://localhost:8080/"
        },
        "id": "tKN08V2OB6Bo",
        "outputId": "416f299d-ab7e-4795-d196-ff4eedf5d84c"
      },
      "execution_count": 63,
      "outputs": [
        {
          "output_type": "stream",
          "name": "stdout",
          "text": [
            "Original Shape: (999775, 3)\n",
            "After Trim Shape: (636906, 3)\n",
            "-Data Examples-\n",
            "     Cust_Id  Rating  Movie_Id\n",
            "696   712664     5.0         3\n"
          ]
        }
      ]
    },
    {
      "cell_type": "code",
      "source": [
        "df_p = pd.pivot_table(df,values='Rating',index='Cust_Id',columns='Movie_Id')"
      ],
      "metadata": {
        "id": "yx-d6UFEB8ua"
      },
      "execution_count": 64,
      "outputs": []
    },
    {
      "cell_type": "code",
      "source": [
        "print(df_p.shape)"
      ],
      "metadata": {
        "colab": {
          "base_uri": "https://localhost:8080/"
        },
        "id": "yCCvJI7ACmcW",
        "outputId": "43373af5-bf32-4f77-fef6-8ea4fb338394"
      },
      "execution_count": 65,
      "outputs": [
        {
          "output_type": "stream",
          "name": "stdout",
          "text": [
            "(95996, 68)\n"
          ]
        }
      ]
    },
    {
      "cell_type": "markdown",
      "source": [
        "# Data mapping"
      ],
      "metadata": {
        "id": "J-cml2d7CvVe"
      }
    },
    {
      "cell_type": "code",
      "source": [
        "df_title = pd.read_csv('/content/drive/MyDrive/dataset-netflix/movie_titles.csv', encoding=\"ISO-8859-1\", header=None, names=['Movie_Id', 'Year', 'Name'], usecols=[0, 1, 2])\n",
        "df_title.set_index('Movie_Id', inplace = True)\n",
        "print (df_title.head(10))"
      ],
      "metadata": {
        "colab": {
          "base_uri": "https://localhost:8080/"
        },
        "id": "C-KteGV3Cx1k",
        "outputId": "1b106c00-7455-4e99-ce98-74146d9f010b"
      },
      "execution_count": 66,
      "outputs": [
        {
          "output_type": "stream",
          "name": "stdout",
          "text": [
            "            Year                          Name\n",
            "Movie_Id                                      \n",
            "1         2003.0               Dinosaur Planet\n",
            "2         2004.0    Isle of Man TT 2004 Review\n",
            "3         1997.0                     Character\n",
            "4         1994.0  Paula Abdul's Get Up & Dance\n",
            "5         2004.0      The Rise and Fall of ECW\n",
            "6         1997.0                          Sick\n",
            "7         1992.0                         8 Man\n",
            "8         2004.0    What the #$*! Do We Know!?\n",
            "9         1991.0      Class of Nuke 'Em High 2\n",
            "10        2001.0                       Fighter\n"
          ]
        }
      ]
    },
    {
      "cell_type": "markdown",
      "source": [
        "# Recommendation models"
      ],
      "metadata": {
        "id": "9tZFeNfSDDwu"
      }
    },
    {
      "cell_type": "markdown",
      "source": [
        "## Recommend with Collaborative Filtering"
      ],
      "metadata": {
        "id": "OStpu0wiGDnQ"
      }
    },
    {
      "cell_type": "markdown",
      "source": [
        "**Collaborative filtering (CF)** es una técnica utilizada por los sistemas de recomendación. Tiene dos sentidos, uno más específico y otro más general.\n",
        "\n",
        "- Sentido estrecho: En este sentido, el filtrado colaborativo se basa en la idea de que si dos usuarios han mostrado preferencias similares en el pasado, es probable que también tengan preferencias similares en el futuro. Por lo tanto, el sistema recomienda elementos a un usuario basándose en las preferencias de usuarios similares. Esto se conoce como CF basado en usuario.\n",
        "\n",
        "- Sentido más general: Además del CF basado en usuario, hay otro enfoque llamado CF basado en elementos. En este caso, en lugar de comparar la similitud entre usuarios, se calcula la similitud entre los elementos mismos. Por ejemplo, si un usuario ha calificado positivamente una serie de películas, el sistema podría recomendar otras películas similares a las que el usuario ha calificado positivamente, en función de la similitud entre esas películas."
      ],
      "metadata": {
        "id": "AUFt-P8wHaGl"
      }
    },
    {
      "cell_type": "code",
      "source": [
        "!pip install scikit-surprise"
      ],
      "metadata": {
        "colab": {
          "base_uri": "https://localhost:8080/"
        },
        "id": "BbjA5Ie1GMNc",
        "outputId": "420cb7ec-f5d1-4777-b447-1675d38e4e5b"
      },
      "execution_count": 67,
      "outputs": [
        {
          "output_type": "stream",
          "name": "stdout",
          "text": [
            "Requirement already satisfied: scikit-surprise in /usr/local/lib/python3.10/dist-packages (1.1.3)\n",
            "Requirement already satisfied: joblib>=1.0.0 in /usr/local/lib/python3.10/dist-packages (from scikit-surprise) (1.4.2)\n",
            "Requirement already satisfied: numpy>=1.17.3 in /usr/local/lib/python3.10/dist-packages (from scikit-surprise) (1.25.2)\n",
            "Requirement already satisfied: scipy>=1.3.2 in /usr/local/lib/python3.10/dist-packages (from scikit-surprise) (1.11.4)\n"
          ]
        }
      ]
    },
    {
      "cell_type": "code",
      "source": [
        "from surprise import Reader, Dataset, SVD\n",
        "from surprise.model_selection import cross_validate"
      ],
      "metadata": {
        "id": "V1b8UmUFGKcg"
      },
      "execution_count": 68,
      "outputs": []
    },
    {
      "cell_type": "code",
      "source": [
        "reader = Reader()\n",
        "\n",
        "# get just top 100K rows for faster run time\n",
        "data = Dataset.load_from_df(df[['Cust_Id', 'Movie_Id', 'Rating']][:], reader)\n",
        "#data.split(n_folds=3)\n",
        "\n",
        "svd = SVD()\n",
        "cross_validate(svd, data, measures=['RMSE', 'MAE'])"
      ],
      "metadata": {
        "colab": {
          "base_uri": "https://localhost:8080/"
        },
        "id": "CRgexG3YDHU7",
        "outputId": "fcbadde8-72b2-415f-a1e0-8a25aad1a2c0"
      },
      "execution_count": 69,
      "outputs": [
        {
          "output_type": "execute_result",
          "data": {
            "text/plain": [
              "{'test_rmse': array([0.96431124, 0.9624759 , 0.96583622, 0.96613927, 0.96659559]),\n",
              " 'test_mae': array([0.76066452, 0.75933539, 0.7619572 , 0.7629406 , 0.76098895]),\n",
              " 'fit_time': (10.522509813308716,\n",
              "  10.70252513885498,\n",
              "  10.845041513442993,\n",
              "  10.831035137176514,\n",
              "  11.049789667129517),\n",
              " 'test_time': (1.232534408569336,\n",
              "  1.6219618320465088,\n",
              "  1.544614553451538,\n",
              "  1.5812156200408936,\n",
              "  1.5452296733856201)}"
            ]
          },
          "metadata": {},
          "execution_count": 69
        }
      ]
    },
    {
      "cell_type": "code",
      "source": [
        "df['Cust_Id'].value_counts()"
      ],
      "metadata": {
        "colab": {
          "base_uri": "https://localhost:8080/"
        },
        "id": "qMQqjG7TNB7Q",
        "outputId": "41206f49-9024-48d9-f81f-9414559f0922"
      },
      "execution_count": 70,
      "outputs": [
        {
          "output_type": "execute_result",
          "data": {
            "text/plain": [
              "Cust_Id\n",
              "305344     68\n",
              "2439493    68\n",
              "387418     68\n",
              "2118461    65\n",
              "1664010    62\n",
              "           ..\n",
              "7964        1\n",
              "377407      1\n",
              "2212481     1\n",
              "680170      1\n",
              "8170        1\n",
              "Name: count, Length: 95996, dtype: int64"
            ]
          },
          "metadata": {},
          "execution_count": 70
        }
      ]
    },
    {
      "cell_type": "markdown",
      "source": [
        "movies that user **1314869** liked in the past"
      ],
      "metadata": {
        "id": "jM_vCgMRG-Jx"
      }
    },
    {
      "cell_type": "code",
      "source": [
        "\n",
        "\n",
        "df_1314869 = df[(df['Cust_Id'] == 1314869) & (df['Rating'] == 5)]\n",
        "df_1314869 = df_1314869.set_index('Movie_Id')\n",
        "df_1314869 = df_1314869.join(df_title)['Name']\n",
        "print(df_1314869)\n",
        "\n"
      ],
      "metadata": {
        "colab": {
          "base_uri": "https://localhost:8080/"
        },
        "id": "5uHeRDmJG9uF",
        "outputId": "f3b26a6e-20b8-4e11-c06e-5ea1752cea3f"
      },
      "execution_count": 81,
      "outputs": [
        {
          "output_type": "stream",
          "name": "stdout",
          "text": [
            "Movie_Id\n",
            "46     Rudolph the Red-Nosed Reindeer\n",
            "78                 Jingle All the Way\n",
            "83                           Silkwood\n",
            "148                    Sweet November\n",
            "Name: Name, dtype: object\n"
          ]
        }
      ]
    },
    {
      "cell_type": "markdown",
      "source": [
        "Let's predict which movies user 1314869 would like to watch:"
      ],
      "metadata": {
        "id": "RiudA-ztHFXu"
      }
    },
    {
      "cell_type": "code",
      "source": [
        "user_1314869 = df_title.copy()\n",
        "user_1314869 = user_1314869.reset_index()\n",
        "user_1314869 = user_1314869[~user_1314869['Movie_Id'].isin(drop_movie_list)]\n",
        "\n",
        "# getting full dataset\n",
        "data = Dataset.load_from_df(df[['Cust_Id', 'Movie_Id', 'Rating']], reader)\n",
        "\n",
        "trainset = data.build_full_trainset()\n",
        "svd.fit(trainset)\n",
        "\n",
        "user_1314869['Estimate_Score'] = user_1314869['Movie_Id'].apply(lambda x: svd.predict(1314869, x).est)\n",
        "\n",
        "user_1314869 = user_1314869.drop('Movie_Id', axis = 1)\n",
        "\n",
        "user_1314869 = user_1314869.sort_values('Estimate_Score', ascending=False)\n",
        "print(user_1314869.head(10))"
      ],
      "metadata": {
        "colab": {
          "base_uri": "https://localhost:8080/"
        },
        "id": "iSVq4yMJHIvA",
        "outputId": "2ca3bc78-f541-440e-85ca-82eeb11ffd6c"
      },
      "execution_count": 83,
      "outputs": [
        {
          "output_type": "stream",
          "name": "stdout",
          "text": [
            "       Year                                  Name  Estimate_Score\n",
            "67   2004.0                           Invader Zim        4.144525\n",
            "57   1996.0                           Dragonheart        3.837376\n",
            "208  1996.0  Star Trek: Deep Space Nine: Season 5        3.805030\n",
            "76   1995.0                                 Congo        3.774255\n",
            "172  1968.0                   The Devil's Brigade        3.742081\n",
            "75   1952.0                 I Love Lucy: Season 2        3.737271\n",
            "54   1995.0                                  Jade        3.688176\n",
            "190  2003.0                      X2: X-Men United        3.646460\n",
            "27   2002.0                       Lilo and Stitch        3.644615\n",
            "47   2001.0                        Justice League        3.586665\n"
          ]
        }
      ]
    }
  ]
}