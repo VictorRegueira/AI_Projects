{
  "nbformat": 4,
  "nbformat_minor": 0,
  "metadata": {
    "colab": {
      "provenance": [],
      "toc_visible": true,
      "include_colab_link": true
    },
    "kernelspec": {
      "name": "python3",
      "display_name": "Python 3"
    },
    "language_info": {
      "name": "python"
    }
  },
  "cells": [
    {
      "cell_type": "markdown",
      "metadata": {
        "id": "view-in-github",
        "colab_type": "text"
      },
      "source": [
        "<a href=\"https://colab.research.google.com/github/VictorRegueira/AI_Projects/blob/main/BigData/4_3_Avance_de_proyecto_1_Sistema_de_Recomendacion_NETFLIX.ipynb\" target=\"_parent\"><img src=\"https://colab.research.google.com/assets/colab-badge.svg\" alt=\"Open In Colab\"/></a>"
      ]
    },
    {
      "cell_type": "markdown",
      "source": [
        "#**Maestría en Inteligencia Artificial Aplicada**\n",
        "##**Curso: Análisis de Grandes Volúmenes de Datos**\n",
        "###Tecnológico de Monterrey\n",
        "###Dr. Néstor Velasco Bermeo\n",
        "\n",
        "## **4.3 Avance de proyecto 1: Sistema de Recomendación**\n",
        "\n",
        "###**Identificar las diferentes plataformas de Big Data Analytics y sus características para el manejo de tareas de procesamiento de datos a gran escala.**\n",
        "\n",
        "### **Integrantes:**\n",
        "#### A01110946 - Fernando Maytorena Espinosa de los Monteros\n",
        "#### A01793999 - Nathalia Milena Prada Hernández\n",
        "#### A01794404 - Víctor Alejandro Regueira Romero\n",
        "\n",
        "**12 de Mayo, 2024**"
      ],
      "metadata": {
        "id": "UJikMCjIW3LD"
      }
    },
    {
      "cell_type": "markdown",
      "source": [
        "# Ingesta de datos"
      ],
      "metadata": {
        "id": "2FaOG_9BMdIu"
      }
    },
    {
      "cell_type": "code",
      "source": [
        "\n",
        "\n",
        "import pandas as pd\n",
        "import numpy as np\n",
        "import math\n",
        "import re\n",
        "from scipy.sparse import csr_matrix\n",
        "import matplotlib.pyplot as plt\n",
        "import seaborn as sns\n",
        "sns.set_style(\"darkgrid\")\n",
        "\n"
      ],
      "metadata": {
        "id": "fQ1d62xtYGK9"
      },
      "execution_count": 1,
      "outputs": []
    },
    {
      "cell_type": "code",
      "source": [
        "from google.colab import drive\n",
        "drive.mount('/content/drive')"
      ],
      "metadata": {
        "colab": {
          "base_uri": "https://localhost:8080/"
        },
        "id": "auYLgDioAO4-",
        "outputId": "239119ab-3e72-498b-ec65-59151c3f47c0"
      },
      "execution_count": 2,
      "outputs": [
        {
          "output_type": "stream",
          "name": "stdout",
          "text": [
            "Drive already mounted at /content/drive; to attempt to forcibly remount, call drive.mount(\"/content/drive\", force_remount=True).\n"
          ]
        }
      ]
    },
    {
      "cell_type": "code",
      "source": [
        "\n",
        "\n",
        "# Skip date\n",
        "df1 = pd.read_csv('/content/drive/MyDrive/dataset-netflix/combined_data_1.txt', header = None, names = ['Cust_Id', 'Rating'], usecols = [0,1])\n",
        "\n",
        "df1['Rating'] = df1['Rating'].astype(float)\n",
        "\n",
        "print('Dataset 1 shape: {}'.format(df1.shape))\n",
        "print('-Dataset examples-')\n",
        "print(df1.iloc[::5000000, :])\n",
        "\n"
      ],
      "metadata": {
        "colab": {
          "base_uri": "https://localhost:8080/"
        },
        "id": "Z4NDoYnY-owr",
        "outputId": "fdea64c6-d763-43d4-b056-d6daea373283"
      },
      "execution_count": 9,
      "outputs": [
        {
          "output_type": "stream",
          "name": "stdout",
          "text": [
            "Dataset 1 shape: (24058263, 2)\n",
            "-Dataset examples-\n",
            "          Cust_Id  Rating\n",
            "0              1:     NaN\n",
            "5000000   2560324     4.0\n",
            "10000000  2271935     2.0\n",
            "15000000  1921803     2.0\n",
            "20000000  1933327     3.0\n"
          ]
        }
      ]
    },
    {
      "cell_type": "markdown",
      "source": [
        " Para este ejemplo solo usaremos 100,000 registros, ya que al usar más de 1,000,000 Colab empieza a fallar al usar la librería Pandas ya que no es la eficiente para BigData"
      ],
      "metadata": {
        "id": "7IMxNdyjMPFY"
      }
    },
    {
      "cell_type": "code",
      "source": [
        "df1.shape"
      ],
      "metadata": {
        "colab": {
          "base_uri": "https://localhost:8080/"
        },
        "id": "48h5T0w5Lb7E",
        "outputId": "e0fa587a-429a-4656-d515-17fbe02e007b"
      },
      "execution_count": 10,
      "outputs": [
        {
          "output_type": "execute_result",
          "data": {
            "text/plain": [
              "(24058263, 2)"
            ]
          },
          "metadata": {},
          "execution_count": 10
        }
      ]
    },
    {
      "cell_type": "code",
      "source": [
        "N = 100000\n",
        "df1 = df1.iloc[:N]"
      ],
      "metadata": {
        "id": "Fw7tpL2HL2uv"
      },
      "execution_count": 11,
      "outputs": []
    },
    {
      "cell_type": "code",
      "source": [
        "df1.shape"
      ],
      "metadata": {
        "colab": {
          "base_uri": "https://localhost:8080/"
        },
        "id": "AClN9nvIL-Xq",
        "outputId": "a387b389-6c53-4878-8ae2-51380294989e"
      },
      "execution_count": 12,
      "outputs": [
        {
          "output_type": "execute_result",
          "data": {
            "text/plain": [
              "(100000, 2)"
            ]
          },
          "metadata": {},
          "execution_count": 12
        }
      ]
    },
    {
      "cell_type": "code",
      "source": [
        "# load less data for speed\n",
        "\n",
        "df = df1\n",
        "#df = df1.append(df2)\n",
        "#df = df.append(df3)\n",
        "#df = df.append(df4)\n",
        "\n",
        "df.index = np.arange(0,len(df))\n",
        "print('Full dataset shape: {}'.format(df.shape))\n",
        "print('-Dataset examples-')\n",
        "print(df.iloc[::5000000, :])\n",
        "\n"
      ],
      "metadata": {
        "colab": {
          "base_uri": "https://localhost:8080/"
        },
        "id": "cyAIBhhuATnx",
        "outputId": "4bf6f1c6-4b4b-45bc-a61f-6800ea9544a8"
      },
      "execution_count": 13,
      "outputs": [
        {
          "output_type": "stream",
          "name": "stdout",
          "text": [
            "Full dataset shape: (100000, 2)\n",
            "-Dataset examples-\n",
            "  Cust_Id  Rating\n",
            "0      1:     NaN\n"
          ]
        }
      ]
    },
    {
      "cell_type": "markdown",
      "source": [],
      "metadata": {
        "id": "yuqVmfo1_tft"
      }
    },
    {
      "cell_type": "code",
      "source": [
        "p = df.groupby('Rating')['Rating'].agg(['count'])\n",
        "\n",
        "# get movie count\n",
        "movie_count = df.isnull().sum()[1]\n",
        "\n",
        "# get customer count\n",
        "cust_count = df['Cust_Id'].nunique() - movie_count\n",
        "\n",
        "# get rating count\n",
        "rating_count = df['Cust_Id'].count() - movie_count\n",
        "\n",
        "ax = p.plot(kind = 'barh', legend = False, figsize = (15,10))\n",
        "plt.title('Total pool: {:,} Movies, {:,} customers, {:,} ratings given'.format(movie_count, cust_count, rating_count), fontsize=20)\n",
        "plt.axis('off')\n",
        "\n",
        "for i in range(1,6):\n",
        "    ax.text(p.iloc[i-1][0]/4, i-1, 'Rating {}: {:.0f}%'.format(i, p.iloc[i-1][0]*100 / p.sum()[0]), color = 'white', weight = 'bold')"
      ],
      "metadata": {
        "colab": {
          "base_uri": "https://localhost:8080/",
          "height": 837
        },
        "id": "N23ymWrZAuCg",
        "outputId": "aed8c715-bc8d-4524-ba6b-8033cc1932a5"
      },
      "execution_count": 14,
      "outputs": [
        {
          "output_type": "display_data",
          "data": {
            "text/plain": [
              "<Figure size 1500x1000 with 1 Axes>"
            ],
            "image/png": "[encoded data removed]"
          },
          "metadata": {}
        }
      ]
    },
    {
      "cell_type": "markdown",
      "source": [
        "# Data Cleaning"
      ],
      "metadata": {
        "id": "YCQ5yaHyA4KY"
      }
    },
    {
      "cell_type": "markdown",
      "source": [
        "Toma al rededor de 2 minutos en realizarse"
      ],
      "metadata": {
        "id": "QwzlKWrDC3XG"
      }
    },
    {
      "cell_type": "code",
      "source": [
        "df_nan = pd.DataFrame(pd.isnull(df.Rating))\n",
        "df_nan = df_nan[df_nan['Rating'] == True]\n",
        "df_nan = df_nan.reset_index()\n",
        "\n",
        "movie_np = []\n",
        "movie_id = 1\n",
        "\n",
        "for i,j in zip(df_nan['index'][1:],df_nan['index'][:-1]):\n",
        "    # numpy approach\n",
        "    temp = np.full((1,i-j-1), movie_id)\n",
        "    movie_np = np.append(movie_np, temp)\n",
        "    movie_id += 1\n",
        "\n",
        "# Account for last record and corresponding length\n",
        "# numpy approach\n",
        "last_record = np.full((1,len(df) - df_nan.iloc[-1, 0] - 1),movie_id)\n",
        "movie_np = np.append(movie_np, last_record)\n",
        "\n",
        "print('Movie numpy: {}'.format(movie_np))\n",
        "print('Length: {}'.format(len(movie_np)))"
      ],
      "metadata": {
        "colab": {
          "base_uri": "https://localhost:8080/"
        },
        "id": "Bmfh8-qbAv7y",
        "outputId": "959969d2-8c85-444d-978f-ae94e93b37cb"
      },
      "execution_count": 15,
      "outputs": [
        {
          "output_type": "stream",
          "name": "stdout",
          "text": [
            "Movie numpy: [ 1.  1.  1. ... 30. 30. 30.]\n",
            "Length: 99970\n"
          ]
        }
      ]
    },
    {
      "cell_type": "code",
      "source": [
        "\n",
        "\n",
        "# remove those Movie ID rows\n",
        "df = df[pd.notnull(df['Rating'])]\n",
        "\n",
        "df['Movie_Id'] = movie_np.astype(int)\n",
        "df['Cust_Id'] = df['Cust_Id'].astype(int)\n",
        "print('-Dataset examples-')\n",
        "print(df.iloc[::50000, :])\n",
        "\n"
      ],
      "metadata": {
        "colab": {
          "base_uri": "https://localhost:8080/"
        },
        "id": "Aud4c5AWA-ae",
        "outputId": "fa930c5f-ae69-4173-ec8c-8d85d3a40caf"
      },
      "execution_count": 16,
      "outputs": [
        {
          "output_type": "stream",
          "name": "stdout",
          "text": [
            "-Dataset examples-\n",
            "       Cust_Id  Rating  Movie_Id\n",
            "1      1488844     3.0         1\n",
            "50026  2519993     3.0        26\n"
          ]
        },
        {
          "output_type": "stream",
          "name": "stderr",
          "text": [
            "<ipython-input-16-6f9efce85cd9>:4: SettingWithCopyWarning: \n",
            "A value is trying to be set on a copy of a slice from a DataFrame.\n",
            "Try using .loc[row_indexer,col_indexer] = value instead\n",
            "\n",
            "See the caveats in the documentation: https://pandas.pydata.org/pandas-docs/stable/user_guide/indexing.html#returning-a-view-versus-a-copy\n",
            "  df['Movie_Id'] = movie_np.astype(int)\n",
            "<ipython-input-16-6f9efce85cd9>:5: SettingWithCopyWarning: \n",
            "A value is trying to be set on a copy of a slice from a DataFrame.\n",
            "Try using .loc[row_indexer,col_indexer] = value instead\n",
            "\n",
            "See the caveats in the documentation: https://pandas.pydata.org/pandas-docs/stable/user_guide/indexing.html#returning-a-view-versus-a-copy\n",
            "  df['Cust_Id'] = df['Cust_Id'].astype(int)\n"
          ]
        }
      ]
    },
    {
      "cell_type": "markdown",
      "source": [
        "# Data slicing"
      ],
      "metadata": {
        "id": "EV722bgVBxXU"
      }
    },
    {
      "cell_type": "markdown",
      "source": [
        "\n",
        "- Remove movie with too less reviews (they are relatively not popular)\n",
        "- Remove customer who give too less reviews (they are relatively less active)\n"
      ],
      "metadata": {
        "id": "yfgiyDv-B111"
      }
    },
    {
      "cell_type": "code",
      "source": [
        "f = ['count','mean']\n",
        "\n",
        "df_movie_summary = df.groupby('Movie_Id')['Rating'].agg(f)\n",
        "df_movie_summary.index = df_movie_summary.index.map(int)\n",
        "movie_benchmark = round(df_movie_summary['count'].quantile(0.7),0)\n",
        "drop_movie_list = df_movie_summary[df_movie_summary['count'] < movie_benchmark].index\n",
        "\n",
        "print('Movie minimum times of review: {}'.format(movie_benchmark))\n",
        "\n",
        "df_cust_summary = df.groupby('Cust_Id')['Rating'].agg(f)\n",
        "df_cust_summary.index = df_cust_summary.index.map(int)\n",
        "cust_benchmark = round(df_cust_summary['count'].quantile(0.7),0)\n",
        "drop_cust_list = df_cust_summary[df_cust_summary['count'] < cust_benchmark].index\n",
        "\n",
        "print('Customer minimum times of review: {}'.format(cust_benchmark))"
      ],
      "metadata": {
        "colab": {
          "base_uri": "https://localhost:8080/"
        },
        "id": "pUeLjHH3BAhp",
        "outputId": "08251424-abef-4c98-9fc9-c4c5a6e77e26"
      },
      "execution_count": 17,
      "outputs": [
        {
          "output_type": "stream",
          "name": "stdout",
          "text": [
            "Movie minimum times of review: 1245.0\n",
            "Customer minimum times of review: 1.0\n"
          ]
        }
      ]
    },
    {
      "cell_type": "code",
      "source": [
        "print('Original Shape: {}'.format(df.shape))\n",
        "df = df[~df['Movie_Id'].isin(drop_movie_list)]\n",
        "df = df[~df['Cust_Id'].isin(drop_cust_list)]\n",
        "print('After Trim Shape: {}'.format(df.shape))\n",
        "print('-Data Examples-')\n",
        "print(df.iloc[::5000000, :])"
      ],
      "metadata": {
        "colab": {
          "base_uri": "https://localhost:8080/"
        },
        "id": "tKN08V2OB6Bo",
        "outputId": "149a0d75-a488-40b2-f53b-f2f16df63345"
      },
      "execution_count": 18,
      "outputs": [
        {
          "output_type": "stream",
          "name": "stdout",
          "text": [
            "Original Shape: (99970, 3)\n",
            "After Trim Shape: (91569, 3)\n",
            "-Data Examples-\n",
            "     Cust_Id  Rating  Movie_Id\n",
            "695  1025579     4.0         3\n"
          ]
        }
      ]
    },
    {
      "cell_type": "code",
      "source": [
        "df_p = pd.pivot_table(df,values='Rating',index='Cust_Id',columns='Movie_Id')"
      ],
      "metadata": {
        "id": "yx-d6UFEB8ua"
      },
      "execution_count": 19,
      "outputs": []
    },
    {
      "cell_type": "code",
      "source": [
        "print(df_p.shape)"
      ],
      "metadata": {
        "colab": {
          "base_uri": "https://localhost:8080/"
        },
        "id": "yCCvJI7ACmcW",
        "outputId": "b3491726-42ca-431f-f944-9fe63500fb61"
      },
      "execution_count": 20,
      "outputs": [
        {
          "output_type": "stream",
          "name": "stdout",
          "text": [
            "(77069, 9)\n"
          ]
        }
      ]
    },
    {
      "cell_type": "markdown",
      "source": [
        "# Data mapping"
      ],
      "metadata": {
        "id": "J-cml2d7CvVe"
      }
    },
    {
      "cell_type": "code",
      "source": [
        "df_title = pd.read_csv('/content/drive/MyDrive/dataset-netflix/movie_titles.csv', encoding=\"ISO-8859-1\", header=None, names=['Movie_Id', 'Year', 'Name'], usecols=[0, 1, 2])\n",
        "df_title.set_index('Movie_Id', inplace = True)\n",
        "print (df_title.head(10))"
      ],
      "metadata": {
        "colab": {
          "base_uri": "https://localhost:8080/"
        },
        "id": "C-KteGV3Cx1k",
        "outputId": "e22a27bb-40e6-4e4e-90f2-6e146c6f8987"
      },
      "execution_count": 22,
      "outputs": [
        {
          "output_type": "stream",
          "name": "stdout",
          "text": [
            "            Year                          Name\n",
            "Movie_Id                                      \n",
            "1         2003.0               Dinosaur Planet\n",
            "2         2004.0    Isle of Man TT 2004 Review\n",
            "3         1997.0                     Character\n",
            "4         1994.0  Paula Abdul's Get Up & Dance\n",
            "5         2004.0      The Rise and Fall of ECW\n",
            "6         1997.0                          Sick\n",
            "7         1992.0                         8 Man\n",
            "8         2004.0    What the #$*! Do We Know!?\n",
            "9         1991.0      Class of Nuke 'Em High 2\n",
            "10        2001.0                       Fighter\n"
          ]
        }
      ]
    },
    {
      "cell_type": "markdown",
      "source": [
        "# Recommendation models"
      ],
      "metadata": {
        "id": "9tZFeNfSDDwu"
      }
    },
    {
      "cell_type": "markdown",
      "source": [
        "## Recommend with Collaborative Filtering"
      ],
      "metadata": {
        "id": "OStpu0wiGDnQ"
      }
    },
    {
      "cell_type": "markdown",
      "source": [
        "**Collaborative filtering (CF)** es una técnica utilizada por los sistemas de recomendación. Tiene dos sentidos, uno más específico y otro más general.\n",
        "\n",
        "- Sentido estrecho: En este sentido, el filtrado colaborativo se basa en la idea de que si dos usuarios han mostrado preferencias similares en el pasado, es probable que también tengan preferencias similares en el futuro. Por lo tanto, el sistema recomienda elementos a un usuario basándose en las preferencias de usuarios similares. Esto se conoce como CF basado en usuario.\n",
        "\n",
        "- Sentido más general: Además del CF basado en usuario, hay otro enfoque llamado CF basado en elementos. En este caso, en lugar de comparar la similitud entre usuarios, se calcula la similitud entre los elementos mismos. Por ejemplo, si un usuario ha calificado positivamente una serie de películas, el sistema podría recomendar otras películas similares a las que el usuario ha calificado positivamente, en función de la similitud entre esas películas."
      ],
      "metadata": {
        "id": "AUFt-P8wHaGl"
      }
    },
    {
      "cell_type": "code",
      "source": [
        "!pip install scikit-surprise"
      ],
      "metadata": {
        "colab": {
          "base_uri": "https://localhost:8080/"
        },
        "id": "BbjA5Ie1GMNc",
        "outputId": "6f9a35e6-9cd4-4fe2-edaa-ae81b69363ef"
      },
      "execution_count": 23,
      "outputs": [
        {
          "output_type": "stream",
          "name": "stdout",
          "text": [
            "Requirement already satisfied: scikit-surprise in /usr/local/lib/python3.10/dist-packages (1.1.3)\n",
            "Requirement already satisfied: joblib>=1.0.0 in /usr/local/lib/python3.10/dist-packages (from scikit-surprise) (1.4.2)\n",
            "Requirement already satisfied: numpy>=1.17.3 in /usr/local/lib/python3.10/dist-packages (from scikit-surprise) (1.25.2)\n",
            "Requirement already satisfied: scipy>=1.3.2 in /usr/local/lib/python3.10/dist-packages (from scikit-surprise) (1.11.4)\n"
          ]
        }
      ]
    },
    {
      "cell_type": "code",
      "source": [
        "from surprise import Reader, Dataset, SVD\n",
        "from surprise.model_selection import cross_validate"
      ],
      "metadata": {
        "id": "V1b8UmUFGKcg"
      },
      "execution_count": 24,
      "outputs": []
    },
    {
      "cell_type": "code",
      "source": [
        "reader = Reader()\n",
        "\n",
        "# get just top 100K rows for faster run time\n",
        "data = Dataset.load_from_df(df[['Cust_Id', 'Movie_Id', 'Rating']][:], reader)\n",
        "#data.split(n_folds=3)\n",
        "\n",
        "svd = SVD()\n",
        "cross_validate(svd, data, measures=['RMSE', 'MAE'])"
      ],
      "metadata": {
        "colab": {
          "base_uri": "https://localhost:8080/"
        },
        "id": "CRgexG3YDHU7",
        "outputId": "28f7815e-e171-4bfd-dcf8-e6431f15db86"
      },
      "execution_count": 25,
      "outputs": [
        {
          "output_type": "execute_result",
          "data": {
            "text/plain": [
              "{'test_rmse': array([1.04101995, 1.05129726, 1.04523044, 1.04606836, 1.04234728]),\n",
              " 'test_mae': array([0.82929128, 0.83791117, 0.83133645, 0.83316095, 0.83473379]),\n",
              " 'fit_time': (3.457995653152466,\n",
              "  3.2766404151916504,\n",
              "  2.658019781112671,\n",
              "  1.960526704788208,\n",
              "  2.481391668319702),\n",
              " 'test_time': (0.25112485885620117,\n",
              "  0.17699122428894043,\n",
              "  0.20421433448791504,\n",
              "  0.381166934967041,\n",
              "  0.14064407348632812)}"
            ]
          },
          "metadata": {},
          "execution_count": 25
        }
      ]
    },
    {
      "cell_type": "markdown",
      "source": [
        "movies that user **783514** liked in the past"
      ],
      "metadata": {
        "id": "jM_vCgMRG-Jx"
      }
    },
    {
      "cell_type": "code",
      "source": [
        "\n",
        "\n",
        "df_785314 = df[(df['Cust_Id'] == 785314) & (df['Rating'] == 5)]\n",
        "df_785314 = df_785314.set_index('Movie_Id')\n",
        "df_785314 = df_785314.join(df_title)['Name']\n",
        "print(df_785314)\n",
        "\n"
      ],
      "metadata": {
        "colab": {
          "base_uri": "https://localhost:8080/"
        },
        "id": "5uHeRDmJG9uF",
        "outputId": "31ab51d8-84da-4bcf-b9ef-6a4ac8615cb0"
      },
      "execution_count": 26,
      "outputs": [
        {
          "output_type": "stream",
          "name": "stdout",
          "text": [
            "Series([], Name: Name, dtype: object)\n"
          ]
        }
      ]
    },
    {
      "cell_type": "markdown",
      "source": [
        "Let's predict which movies user 785314 would love to watch:"
      ],
      "metadata": {
        "id": "RiudA-ztHFXu"
      }
    },
    {
      "cell_type": "code",
      "source": [
        "user_785314 = df_title.copy()\n",
        "user_785314 = user_785314.reset_index()\n",
        "user_785314 = user_785314[~user_785314['Movie_Id'].isin(drop_movie_list)]\n",
        "\n",
        "# getting full dataset\n",
        "data = Dataset.load_from_df(df[['Cust_Id', 'Movie_Id', 'Rating']], reader)\n",
        "\n",
        "trainset = data.build_full_trainset()\n",
        "svd.fit(trainset)\n",
        "\n",
        "user_785314['Estimate_Score'] = user_785314['Movie_Id'].apply(lambda x: svd.predict(785314, x).est)\n",
        "\n",
        "user_785314 = user_785314.drop('Movie_Id', axis = 1)\n",
        "\n",
        "user_785314 = user_785314.sort_values('Estimate_Score', ascending=False)\n",
        "print(user_785314.head(10))"
      ],
      "metadata": {
        "colab": {
          "base_uri": "https://localhost:8080/"
        },
        "id": "iSVq4yMJHIvA",
        "outputId": "51392fb7-ba2c-4bfa-dc68-4af371b8d0d7"
      },
      "execution_count": 27,
      "outputs": [
        {
          "output_type": "stream",
          "name": "stdout",
          "text": [
            "         Year                                           Name  Estimate_Score\n",
            "27     2002.0                                Lilo and Stitch        3.211700\n",
            "8895   2002.0                          Bollywood / Hollywood        2.986284\n",
            "11853  1939.0                         Only Angels Have Wings        2.986284\n",
            "11859  1976.0  Bruce Lee: Fists of Fury / Chinese Connection        2.986284\n",
            "11858  1996.0                       Star Trek: First Contact        2.986284\n",
            "11857  1974.0                           Good Times: Season 2        2.986284\n",
            "11856  2000.0                         The Man Show: Season 2        2.986284\n",
            "11855  1962.0                                    Half Ticket        2.986284\n",
            "11854  1967.0                                         Hombre        2.986284\n",
            "11852  1982.0                             Privates on Parade        2.986284\n"
          ]
        }
      ]
    }
  ]
}