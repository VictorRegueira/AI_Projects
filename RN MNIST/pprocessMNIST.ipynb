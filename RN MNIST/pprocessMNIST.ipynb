{
 "cells": [
  {
   "cell_type": "markdown",
   "id": "f8918996",
   "metadata": {},
   "source": [
    "# Preprocesamiento de datos"
   ]
  },
  {
   "cell_type": "code",
   "execution_count": 2,
   "id": "6bae25cc",
   "metadata": {},
   "outputs": [],
   "source": [
    "import gzip\n",
    "import os\n",
    "from os.path import isfile, join\n",
    "import numpy as np"
   ]
  },
  {
   "cell_type": "code",
   "execution_count": 11,
   "id": "5f224231",
   "metadata": {},
   "outputs": [],
   "source": [
    "mnist_path = './mnist_raw/'"
   ]
  },
  {
   "cell_type": "code",
   "execution_count": 12,
   "id": "2ab3c65b",
   "metadata": {},
   "outputs": [],
   "source": [
    "def list_files(mnist_path):\n",
    "    return [join(mnist_path,f) for f in os.listdir(mnist_path) if isfile(join(mnist_path, f))]"
   ]
  },
  {
   "cell_type": "code",
   "execution_count": 13,
   "id": "ad70b19f",
   "metadata": {},
   "outputs": [
    {
     "name": "stdout",
     "output_type": "stream",
     "text": [
      "./mnist_raw/t10k-images-idx3-ubyte.gz\n",
      "./mnist_raw/t10k-labels-idx1-ubyte.gz\n",
      "./mnist_raw/train-images-idx3-ubyte.gz\n",
      "./mnist_raw/train-labels-idx1-ubyte.gz\n"
     ]
    }
   ],
   "source": [
    "for f in list_files(mnist_path): print(f)"
   ]
  },
  {
   "cell_type": "code",
   "execution_count": 15,
   "id": "19aae3e7",
   "metadata": {},
   "outputs": [],
   "source": [
    "def get_images(mnist_path):\n",
    "    \"\"\" Image reading\n",
    "    x_train = ./mnist_raw/train-images-idx3-ubyte.gz\n",
    "    y_train = ./mnist_raw/train-labels-idx1-ubyte.gz\n",
    "    x_test = ./mnist_raw/t10k-images-idx3-ubyte.gz\n",
    "    y_test = ./mnist_raw/t10k-labels-idx1-ubyte.gz\n",
    "    \"\"\"\n",
    "    for f in list_files(mnist_path):\n",
    "        if 'train-images' in f:\n",
    "            with gzip.open(f,'rb') as data:\n",
    "                _ = int.from_bytes(data.read(4), 'big')\n",
    "                num_images = int.from_bytes(data.read(4), 'big')\n",
    "                rows = int.from_bytes(data.read(4), 'big')\n",
    "                cols = int.from_bytes(data.read(4), 'big')\n",
    "                train_images = data.read()\n",
    "                x_train = np.frombuffer(train_images, dtype = np.uint8)\n",
    "                x_train = x_train.reshape(num_images, rows, cols)\n",
    "                \n",
    "        elif 'train-labels' in f:\n",
    "            with gzip.open(f, 'rb') as data:\n",
    "                train_labels = data.read()[8:]\n",
    "                y_train = np.frombuffer(train_labels, dtype= np.uint8)\n",
    "                \n",
    "        if 't10k-images' in f:\n",
    "            with gzip.open(f,'rb') as data:\n",
    "                _ = int.from_bytes(data.read(4), 'big')\n",
    "                num_images = int.from_bytes(data.read(4), 'big')\n",
    "                rows = int.from_bytes(data.read(4), 'big')\n",
    "                cols = int.from_bytes(data.read(4), 'big')\n",
    "                test_images = data.read()\n",
    "                x_test = np.frombuffer(test_images, dtype = np.uint8)\n",
    "                x_test = x_test.reshape(num_images, rows, cols)\n",
    "                \n",
    "        elif 't10k-labels' in f:\n",
    "            with gzip.open(f, 'rb') as data:\n",
    "                test_labels = data.read()[8:]\n",
    "                y_test = np.frombuffer(test_labels, dtype= np.uint8)\n",
    "                \n",
    "    return x_train, y_train, x_test, y_test"
   ]
  },
  {
   "cell_type": "code",
   "execution_count": 16,
   "id": "e7862f3c",
   "metadata": {},
   "outputs": [],
   "source": [
    "x_train, y_train, x_test, y_test = get_images(mnist_path)"
   ]
  },
  {
   "cell_type": "code",
   "execution_count": 18,
   "id": "0342a607",
   "metadata": {},
   "outputs": [
    {
     "name": "stdout",
     "output_type": "stream",
     "text": [
      "(60000, 28, 28)\n",
      "(60000,)\n",
      "----------\n",
      "(10000, 28, 28)\n",
      "(10000,)\n"
     ]
    }
   ],
   "source": [
    "print(x_train.shape)\n",
    "print(y_train.shape)\n",
    "print('-'*10)\n",
    "print(x_test.shape)\n",
    "print(y_test.shape)"
   ]
  },
  {
   "cell_type": "code",
   "execution_count": 20,
   "id": "5e8fe20f",
   "metadata": {},
   "outputs": [],
   "source": [
    "from jupyterthemes import jtplot\n",
    "jtplot.style(grid=False)"
   ]
  },
  {
   "cell_type": "code",
   "execution_count": 22,
   "id": "ac41a7c2",
   "metadata": {},
   "outputs": [],
   "source": [
    "import matplotlib.pyplot as plt\n",
    "%matplotlib inline"
   ]
  },
  {
   "cell_type": "code",
   "execution_count": 25,
   "id": "767fcbe9",
   "metadata": {},
   "outputs": [],
   "source": [
    "def plot_number(image):\n",
    "    plt.imshow(image.squeeze(), cmap=plt.get_cmap('gray'))\n",
    "    plt.axis('off')"
   ]
  },
  {
   "cell_type": "code",
   "execution_count": 34,
   "id": "d3041b8c",
   "metadata": {},
   "outputs": [
    {
     "name": "stdout",
     "output_type": "stream",
     "text": [
      "La imagen mostrada corresponde a un: 4\n"
     ]
    },
    {
     "data": {
      "image/png": "[encoded data removed]",
      "text/plain": [
       "<Figure size 432x288 with 1 Axes>"
      ]
     },
     "metadata": {
      "needs_background": "dark"
     },
     "output_type": "display_data"
    }
   ],
   "source": [
    "random_idx = np.random.randint(len(y_test))\n",
    "print(f'La imagen mostrada corresponde a un: {y_test[random_idx]}')\n",
    "plot_number(x_test[random_idx])"
   ]
  },
  {
   "cell_type": "code",
   "execution_count": null,
   "id": "741477f6",
   "metadata": {},
   "outputs": [],
   "source": []
  },
  {
   "cell_type": "code",
   "execution_count": null,
   "id": "efb3d64f",
   "metadata": {},
   "outputs": [],
   "source": []
  }
 ],
 "metadata": {
  "celltoolbar": "Raw Cell Format",
  "kernelspec": {
   "display_name": "Python 3 (ipykernel)",
   "language": "python",
   "name": "python3"
  },
  "language_info": {
   "codemirror_mode": {
    "name": "ipython",
    "version": 3
   },
   "file_extension": ".py",
   "mimetype": "text/x-python",
   "name": "python",
   "nbconvert_exporter": "python",
   "pygments_lexer": "ipython3",
   "version": "3.9.12"
  }
 },
 "nbformat": 4,
 "nbformat_minor": 5
}
